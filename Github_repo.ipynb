{
  "nbformat": 4,
  "nbformat_minor": 0,
  "metadata": {
    "colab": {
      "provenance": [],
      "authorship_tag": "ABX9TyOeUnDJtLVnMyaAbp5OlK2P",
      "include_colab_link": true
    },
    "kernelspec": {
      "name": "python3",
      "display_name": "Python 3"
    },
    "language_info": {
      "name": "python"
    }
  },
  "cells": [
    {
      "cell_type": "markdown",
      "metadata": {
        "id": "view-in-github",
        "colab_type": "text"
      },
      "source": [
        "<a href=\"https://colab.research.google.com/github/rjosh003-CS/Data-Mining-coursework/blob/main/Github_repo.ipynb\" target=\"_parent\"><img src=\"https://colab.research.google.com/assets/colab-badge.svg\" alt=\"Open In Colab\"/></a>"
      ]
    },
    {
      "cell_type": "code",
      "execution_count": null,
      "metadata": {
        "id": "hLTIw8XQKlpr"
      },
      "outputs": [],
      "source": [
        "from google.colab import userdata\n",
        "\n",
        "not_clonned = True\n",
        "\n",
        "class GIT():\n",
        "\n",
        "  def __init__(self, local_path = None, repo_url = None):\n",
        "    self.github_token = userdata.get('github_token')\n",
        "    self.username = userdata.get('username')\n",
        "    self.dir_name = userdata.get('dir_name')\n",
        "    self.repo_name = userdata.get('repo_name')\n",
        "\n",
        "    print(f\"github_token: {self.github_token}\")\n",
        "    print(f\"username: {self.username}\")\n",
        "    print(f\"dir_name: {self.dir_name}\")\n",
        "    print(f\"repo_name: {self.repo_name}\")\n",
        "\n",
        "    # Construct the repository URL and local path\n",
        "    if repo_url == None:\n",
        "      self.repo_url = f\"https://github.com/{self.username}/{self.repo_name}.git\"\n",
        "    else:\n",
        "      self.repo_url = repo_url\n",
        "\n",
        "    if local_path == None:\n",
        "      self.local_path = f\"/content/{self.repo_name}\"\n",
        "    else:\n",
        "      self.local_path = local_path\n",
        "\n",
        "    print(f\"repo_url: {self.repo_url}\")\n",
        "    print(f\"local_path: {self.local_path}\")\n",
        "\n",
        "\n",
        "  def clone_git(self):\n",
        "      # Clone the repository using the token for authentication\n",
        "      !git clone {self.repo_url} {self.local_path}\n",
        "      !git config --global credential.helper store\n",
        "      !cd {local_path} && git checkout master\n",
        "\n",
        "\n",
        "\n",
        "\n",
        "if not_clonned:\n",
        "    print(f\"not_clonned: {not_clonned}\")\n",
        "    git = GIT()\n",
        "    git.clone_git()\n",
        "    not_clonned = False\n",
        "    print(f\"not_clonned: {not_clonned}\")\n",
        "\n"
      ]
    }
  ]
}